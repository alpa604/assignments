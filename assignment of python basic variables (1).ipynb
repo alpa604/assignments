{
 "cells": [
  {
   "cell_type": "code",
   "execution_count": null,
   "id": "a5bfa1a1-51ba-4d92-b995-61d28fb0f183",
   "metadata": {},
   "outputs": [],
   "source": [
    "function is the type of in built logics or in built syntaxes which we used during the operations."
   ]
  },
  {
   "cell_type": "code",
   "execution_count": 1,
   "id": "09438120-e904-406e-867e-18224f772d8a",
   "metadata": {},
   "outputs": [],
   "source": [
    "alpa =(234356789)"
   ]
  },
  {
   "cell_type": "code",
   "execution_count": 2,
   "id": "c2521567-4fd7-40f4-81ae-53a135e445c7",
   "metadata": {},
   "outputs": [
    {
     "data": {
      "text/plain": [
       "234356789"
      ]
     },
     "execution_count": 2,
     "metadata": {},
     "output_type": "execute_result"
    }
   ],
   "source": [
    "alpa"
   ]
  },
  {
   "cell_type": "code",
   "execution_count": 3,
   "id": "b2e77a4a-3969-40aa-8ddc-e5d345853d83",
   "metadata": {},
   "outputs": [
    {
     "data": {
      "text/plain": [
       "int"
      ]
     },
     "execution_count": 3,
     "metadata": {},
     "output_type": "execute_result"
    }
   ],
   "source": [
    "type(alpa)"
   ]
  },
  {
   "cell_type": "code",
   "execution_count": 24,
   "id": "4453c809-5dcf-4674-b308-2a20c5bc8e31",
   "metadata": {},
   "outputs": [],
   "source": [
    "x =int(34278)"
   ]
  },
  {
   "cell_type": "code",
   "execution_count": 25,
   "id": "fde69006-18ce-43bf-b0bd-f2d249fd31e6",
   "metadata": {},
   "outputs": [
    {
     "data": {
      "text/plain": [
       "int"
      ]
     },
     "execution_count": 25,
     "metadata": {},
     "output_type": "execute_result"
    }
   ],
   "source": [
    "type(x)"
   ]
  },
  {
   "cell_type": "code",
   "execution_count": 26,
   "id": "4e22f4fb-3b10-4752-b91d-f760e522b38f",
   "metadata": {},
   "outputs": [],
   "source": [
    "y =int(25468)"
   ]
  },
  {
   "cell_type": "code",
   "execution_count": 27,
   "id": "96a27701-e696-4fc0-8a1f-800f1cc517c9",
   "metadata": {},
   "outputs": [
    {
     "data": {
      "text/plain": [
       "int"
      ]
     },
     "execution_count": 27,
     "metadata": {},
     "output_type": "execute_result"
    }
   ],
   "source": [
    "type(y)"
   ]
  },
  {
   "cell_type": "code",
   "execution_count": 28,
   "id": "b13437c9-7b70-4541-8ef5-ec2f10bc4cb1",
   "metadata": {},
   "outputs": [],
   "source": [
    "x =(x+y)"
   ]
  },
  {
   "cell_type": "code",
   "execution_count": 29,
   "id": "373816df-28f2-4509-9906-de7bf372d407",
   "metadata": {},
   "outputs": [
    {
     "data": {
      "text/plain": [
       "59746"
      ]
     },
     "execution_count": 29,
     "metadata": {},
     "output_type": "execute_result"
    }
   ],
   "source": [
    "x"
   ]
  },
  {
   "cell_type": "code",
   "execution_count": 30,
   "id": "5faa6c0b-b841-4605-b60e-c26a6ed24653",
   "metadata": {},
   "outputs": [],
   "source": [
    "y =(x-y)"
   ]
  },
  {
   "cell_type": "code",
   "execution_count": 31,
   "id": "185743d4-be5c-4028-a134-4cd6076fe521",
   "metadata": {},
   "outputs": [
    {
     "data": {
      "text/plain": [
       "34278"
      ]
     },
     "execution_count": 31,
     "metadata": {},
     "output_type": "execute_result"
    }
   ],
   "source": [
    "y"
   ]
  },
  {
   "cell_type": "code",
   "execution_count": 32,
   "id": "6c528b3d-bfff-4f63-baf9-880c3f8dfa89",
   "metadata": {},
   "outputs": [],
   "source": [
    "x =(x-y)"
   ]
  },
  {
   "cell_type": "code",
   "execution_count": 33,
   "id": "4521380f-3b65-471b-9da9-267ea746128e",
   "metadata": {},
   "outputs": [
    {
     "data": {
      "text/plain": [
       "25468"
      ]
     },
     "execution_count": 33,
     "metadata": {},
     "output_type": "execute_result"
    }
   ],
   "source": [
    "x"
   ]
  },
  {
   "cell_type": "code",
   "execution_count": null,
   "id": "bc4e991b-d0d2-4988-9e53-5842bdc3a554",
   "metadata": {},
   "outputs": [],
   "source": [
    "here i declare two variables x and y and without using any third variable i swap the values of both x and y."
   ]
  },
  {
   "cell_type": "code",
   "execution_count": 34,
   "id": "0bd00059-a8ce-4c1c-b20c-7518aff62150",
   "metadata": {},
   "outputs": [],
   "source": [
    "a =(45)"
   ]
  },
  {
   "cell_type": "code",
   "execution_count": null,
   "id": "89bd3468-e2f0-49eb-97c3-1ee2030a5692",
   "metadata": {},
   "outputs": [],
   "source": [
    "a is the lenght of a rectangle."
   ]
  },
  {
   "cell_type": "code",
   "execution_count": 35,
   "id": "7dc9725d-1b03-47af-83ef-79b133813cee",
   "metadata": {},
   "outputs": [],
   "source": [
    "b =(50)"
   ]
  },
  {
   "cell_type": "code",
   "execution_count": null,
   "id": "9aa47f6e-0d17-475e-9835-faad2e39997f",
   "metadata": {},
   "outputs": [],
   "source": [
    "b is the breadth of the reactangle."
   ]
  },
  {
   "cell_type": "code",
   "execution_count": null,
   "id": "23808517-eb8c-4bd9-8fbd-6f785856ebe7",
   "metadata": {},
   "outputs": [],
   "source": [
    "area of rectangle is calculated by the multiplication of length and breadth.here,area is denoted by p."
   ]
  },
  {
   "cell_type": "code",
   "execution_count": 37,
   "id": "320fc935-65f7-4dfd-98c2-c3ac3bff72ec",
   "metadata": {},
   "outputs": [],
   "source": [
    "p =(a*b)"
   ]
  },
  {
   "cell_type": "code",
   "execution_count": 38,
   "id": "5e7a3294-fbc3-459d-b44d-1a9cde1d6dc9",
   "metadata": {},
   "outputs": [
    {
     "data": {
      "text/plain": [
       "2250"
      ]
     },
     "execution_count": 38,
     "metadata": {},
     "output_type": "execute_result"
    }
   ],
   "source": [
    "p"
   ]
  },
  {
   "cell_type": "code",
   "execution_count": 44,
   "id": "a28ed70e-0a95-4d70-9b9a-0db5650f2211",
   "metadata": {},
   "outputs": [],
   "source": [
    "c =(25)"
   ]
  },
  {
   "cell_type": "code",
   "execution_count": 45,
   "id": "c926ec7f-1a9c-4784-9b54-a0544325e6b0",
   "metadata": {},
   "outputs": [
    {
     "data": {
      "text/plain": [
       "25"
      ]
     },
     "execution_count": 45,
     "metadata": {},
     "output_type": "execute_result"
    }
   ],
   "source": [
    "c"
   ]
  },
  {
   "cell_type": "code",
   "execution_count": 46,
   "id": "b91e094d-96f3-486a-9c02-de830685a191",
   "metadata": {},
   "outputs": [],
   "source": [
    "f =c*1.8+32"
   ]
  },
  {
   "cell_type": "code",
   "execution_count": 47,
   "id": "46957e0c-d84c-4737-aca2-2609c64e91b3",
   "metadata": {},
   "outputs": [
    {
     "data": {
      "text/plain": [
       "77.0"
      ]
     },
     "execution_count": 47,
     "metadata": {},
     "output_type": "execute_result"
    }
   ],
   "source": [
    "f"
   ]
  },
  {
   "cell_type": "code",
   "execution_count": null,
   "id": "5368f12c-70ac-47ef-91ee-c3ce6f6f830b",
   "metadata": {},
   "outputs": [],
   "source": [
    "here tempersture was given in celcius that is 25 dergree and we have to convert it into ferennheit so i used a formula f=c*1.8+32\n",
    "and execute this changed the temperature in required unit."
   ]
  },
  {
   "cell_type": "code",
   "execution_count": null,
   "id": "44f62c70-681c-4439-87ea-dcc5495fd3a3",
   "metadata": {},
   "outputs": [],
   "source": []
  }
 ],
 "metadata": {
  "kernelspec": {
   "display_name": "Python 3 (ipykernel)",
   "language": "python",
   "name": "python3"
  },
  "language_info": {
   "codemirror_mode": {
    "name": "ipython",
    "version": 3
   },
   "file_extension": ".py",
   "mimetype": "text/x-python",
   "name": "python",
   "nbconvert_exporter": "python",
   "pygments_lexer": "ipython3",
   "version": "3.10.8"
  }
 },
 "nbformat": 4,
 "nbformat_minor": 5
}
